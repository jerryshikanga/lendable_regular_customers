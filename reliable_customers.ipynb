{
 "cells": [
  {
   "cell_type": "markdown",
   "id": "5bf65cf8-01ff-493f-b6ad-d7e9a7d60f3a",
   "metadata": {},
   "source": [
    "## Algorithm : Get the max consecutive days per user\n",
    "\n",
    "    a. Convert the user days from normal date time to days of the year in the rnage 1..365\n",
    "    \n",
    "    b. Loop though the days, till n-1, where n is the total number of days the user made a payment\n",
    "    \n",
    "    c. Have a variable to store lists of lists, which will be the consecutive days of payments by the user\n",
    "    \n",
    "    d. Have a variable to track the index where the last list ended. Initialize to zero.\n",
    "    \n",
    "    e. For each day/index, compare x and the item at the next index. If the two days are consecutive, proceed to the next index. If two days are not consecutive, make a sublits from the previous list's index to the current index into different a list and append to the consective days. \n",
    "    \n",
    "    f. Get the lengths of the lists and get the maximum, which will represent the maximum number of consective days paid by the user\n",
    "    \n",
    "    g. Store this in a dictionary where the key is the user_id and the value his/her maximum number of consecutive days\n",
    "    \n",
    "    h. Sort the dictionary by descending order\n",
    "    \n",
    "    i. Return the requested number of values\n",
    "    \n",
    "## Requirements not met\n",
    "1. If you need to break ties, you should choose account numbers that come first alphabetically. We can solve this by having a custom ordering fucntion.\n",
    "2. If the years are different the algorithm will break. We can solve this by having days of the year by day_of_year * year"
   ]
  },
  {
   "cell_type": "code",
   "execution_count": 1,
   "id": "294227d7-3e8b-4999-8933-d432bcc70494",
   "metadata": {},
   "outputs": [],
   "source": [
    "import pandas as pd\n",
    "\n",
    "def read_csv_file_and_clean(path):\n",
    "    data_frame = pd.read_csv(path)\n",
    "    data_frame['transaction_date'] = data_frame['transaction_date'].astype('datetime64[ns]')\n",
    "    # we convert days from plain date to the range of 1..365 so that it is easier to work with them over a list\n",
    "    # this does not take into account the fact that the year may be different. Such a test case has to be handled.\n",
    "    data_frame['transaction_day_of_year'] = data_frame['transaction_date'].dt.day_of_year\n",
    "    # sort the data by day of year now as it is more efficient\n",
    "    # This will make it easier when working with the data in pure python\n",
    "    data_frame.sort_values(['transaction_day_of_year', 'customer_id' ], inplace=True)\n",
    "    return data_frame"
   ]
  },
  {
   "cell_type": "code",
   "execution_count": 2,
   "id": "9b190708-2c23-4ff2-a3ef-eb1f5cd66989",
   "metadata": {},
   "outputs": [],
   "source": [
    "is_next = lambda x, y : y-x == 1\n",
    "\n",
    "def get_consecutive_payment_days(days_list):\n",
    "    sublists = []\n",
    "    last_list_end = 0\n",
    "    for i in range(len(days_list)-1):\n",
    "        if not is_next(days_list[i], days_list[i+1]):\n",
    "            sublists.append(days_list[last_list_end:i+1])\n",
    "            last_list_end = i+1 \n",
    "    if last_list_end != len(days_list):\n",
    "        sublists.append(l[last_list_end:len(days_list)])\n",
    "    return sublists\n",
    "\n",
    "def get_max_consecutive_days(sublists):\n",
    "    sub_days = get_consecutive_payment_days(sublists)\n",
    "    days = list(map(lambda x : len(x), sub_days))\n",
    "    return max(days)\n",
    "\n",
    "l = [1,2,3,5,6,7,8,9,11,12]\n",
    "\n",
    "assert get_consecutive_payment_days(l) == [[1,2,3], [5,6,7,8,9], [11,12]]\n",
    "assert get_max_consecutive_days(l) == 5\n",
    "assert is_next(4,5)\n",
    "assert is_next (-1, 1) != True"
   ]
  },
  {
   "cell_type": "code",
   "execution_count": 3,
   "id": "6862400d-cced-44a7-b064-0c24f654356c",
   "metadata": {},
   "outputs": [],
   "source": [
    "def sort_dict_by_value(x, reverse=True):\n",
    "    return dict(sorted(x.items(), key=lambda item: item[1], reverse=reverse))\n",
    "\n",
    "d = dict(A=12, B=8, C=34, D=123)\n",
    "assert sort_dict_by_value(d, False) == dict(B=8, A=12, C=34, D=123)\n",
    "\n",
    "d2 = dict(Apples=999, Oranges=82, Coffee=34, Dogs=3)\n",
    "assert sort_dict_by_value(d2, True) == dict(Apples=999, Oranges=82, Coffee=34, Dogs=3)"
   ]
  },
  {
   "cell_type": "code",
   "execution_count": 4,
   "id": "b7981867-0024-4c60-8d2e-5f3df2f55b85",
   "metadata": {},
   "outputs": [],
   "source": [
    "def calculate_regular_customers(path, n):\n",
    "    df = read_csv_file_and_clean(path)\n",
    "    all_users_max_days = dict()\n",
    "    # get unique user ids and use these to get payments specific to a user\n",
    "    users = df['customer_id'].unique()\n",
    "    for user in users:\n",
    "        user_df = df.loc[df['customer_id']==user]\n",
    "        user_days = sorted(user_df['transaction_day_of_year'].to_list())\n",
    "        # print(f\"User : {user} Days : {user_days}\")\n",
    "        max_days = get_max_consecutive_days(user_days)\n",
    "        # A better approach has to be found\n",
    "        all_users_max_days[user] = max_days\n",
    "    all_users_max_days = sort_dict_by_value(all_users_max_days)\n",
    "    l = []\n",
    "#     print(f\"Sorted : {all_users_max_days}\")\n",
    "    return list(all_users_max_days.keys())[0:n]"
   ]
  },
  {
   "cell_type": "code",
   "execution_count": 5,
   "id": "e394349f-0a09-4d93-bd96-064515655ed7",
   "metadata": {},
   "outputs": [
    {
     "data": {
      "text/plain": [
       "['ACC143', 'ACC418', 'ACC214']"
      ]
     },
     "execution_count": 5,
     "metadata": {},
     "output_type": "execute_result"
    }
   ],
   "source": [
    "calculate_regular_customers('~/Documents/lendable/data/transaction_data_3.csv', 3)"
   ]
  },
  {
   "cell_type": "markdown",
   "id": "3f5fd46b-22ab-4a9d-8294-e1d99375d14d",
   "metadata": {},
   "source": [
    "## Improvement suggestions:\n",
    "\n",
    "    1. Use a priority queue to store the user/number of consecutive days \n",
    "    \n",
    "    2. Make the day of the year aware of different years.\n",
    "    \n",
    "    3. In the algorithm to get max consecutive elements, implement a form of look ahead such that if the number of remaining days is less than the current_maximum, exit the loop\n",
    "    \n",
    "    4. To save on space complexity, evaluate list length and store that at step e instead of saving the sublist and evaluating at step f"
   ]
  }
 ],
 "metadata": {
  "kernelspec": {
   "display_name": "Python 3",
   "language": "python",
   "name": "python3"
  },
  "language_info": {
   "codemirror_mode": {
    "name": "ipython",
    "version": 3
   },
   "file_extension": ".py",
   "mimetype": "text/x-python",
   "name": "python",
   "nbconvert_exporter": "python",
   "pygments_lexer": "ipython3",
   "version": "3.8.8"
  }
 },
 "nbformat": 4,
 "nbformat_minor": 5
}
